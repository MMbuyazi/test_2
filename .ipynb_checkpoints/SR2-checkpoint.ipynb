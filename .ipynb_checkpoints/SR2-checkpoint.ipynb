{
 "cells": [
  {
   "cell_type": "code",
   "execution_count": 11,
   "id": "87f7c8c6-1a63-4e55-b605-dfdd51d75535",
   "metadata": {},
   "outputs": [],
   "source": [
    "import numpy as np\n",
    "import matplotlib.pyplot as plt\n",
    "import pandas as pd"
   ]
  },
  {
   "cell_type": "code",
   "execution_count": 12,
   "id": "2e334cff-c506-4acd-b8f4-a54ee6140ec6",
   "metadata": {},
   "outputs": [
    {
     "name": "stdout",
     "output_type": "stream",
     "text": [
      "<class 'pandas.core.frame.DataFrame'>\n",
      "RangeIndex: 149 entries, 0 to 148\n",
      "Data columns (total 10 columns):\n",
      " #   Column                 Non-Null Count  Dtype  \n",
      "---  ------                 --------------  -----  \n",
      " 0   Country                149 non-null    object \n",
      " 1   Population             149 non-null    int64  \n",
      " 2   Population density     149 non-null    int64  \n",
      " 3   Access to clean water  149 non-null    float64\n",
      " 4   Acces to sanitation    149 non-null    float64\n",
      " 5   Electricity Access     149 non-null    float64\n",
      " 6   HealthCare             149 non-null    float64\n",
      " 7   Education Access       149 non-null    float64\n",
      " 8   Poverty Rate           149 non-null    float64\n",
      " 9   Unemployment Rate      149 non-null    float64\n",
      "dtypes: float64(7), int64(2), object(1)\n",
      "memory usage: 11.8+ KB\n"
     ]
    }
   ],
   "source": [
    "# Read the CSV file into a DataFrame\n",
    "df = pd.read_csv(r\"C:/Users/cash/OneDrive/Desktop/Human settlement.csv\")\n",
    "\n",
    "# Display information about the DataFrame\n",
    "df.info()"
   ]
  },
  {
   "cell_type": "code",
   "execution_count": 13,
   "id": "6050dbd8-2263-4d88-957b-f6756108e54b",
   "metadata": {},
   "outputs": [
    {
     "name": "stdout",
     "output_type": "stream",
     "text": [
      "Index(['Country', 'Population', 'Population density', 'Access to clean water',\n",
      "       'Acces to sanitation', 'Electricity Access', 'HealthCare',\n",
      "       'Education Access', 'Poverty Rate', 'Unemployment Rate'],\n",
      "      dtype='object')\n"
     ]
    },
    {
     "data": {
      "text/plain": [
       "1490"
      ]
     },
     "execution_count": 13,
     "metadata": {},
     "output_type": "execute_result"
    }
   ],
   "source": [
    "# View the columns of the DataFrame\n",
    "print(df.columns)\n",
    "df.size"
   ]
  },
  {
   "cell_type": "code",
   "execution_count": 7,
   "id": "c04460aa-0b14-4f03-8d10-1e5214ba6e7d",
   "metadata": {},
   "outputs": [
    {
     "name": "stdout",
     "output_type": "stream",
     "text": [
      "Country                  0\n",
      "Population               0\n",
      "Population density       0\n",
      "Access to clean water    0\n",
      "Acces to sanitation      0\n",
      "Electricity Access       0\n",
      "HealthCare               0\n",
      "Education Access         0\n",
      "Poverty Rate             0\n",
      "Unemployment Rate        0\n",
      "dtype: int64\n"
     ]
    }
   ],
   "source": [
    "# Print the count of missing values (null values) in each column of the DataFrame\n",
    "print(df.isnull().sum())"
   ]
  },
  {
   "cell_type": "code",
   "execution_count": 9,
   "id": "e62b7ee8-697a-40a7-9c05-5b0c8caa4ab3",
   "metadata": {},
   "outputs": [
    {
     "name": "stdout",
     "output_type": "stream",
     "text": [
      "0\n"
     ]
    }
   ],
   "source": [
    "# Print the count of duplicated rows in the DataFrame\n",
    "print(df.duplicated().sum())"
   ]
  },
  {
   "cell_type": "code",
   "execution_count": 10,
   "id": "e281b88d-ed28-40b5-b537-e7d7cd6931d1",
   "metadata": {},
   "outputs": [
    {
     "name": "stdout",
     "output_type": "stream",
     "text": [
      "          Country  Population  Population density  Access to clean water  \\\n",
      "1          Canada      120151                6092                  97.82   \n",
      "2        Mexico Z      219199                 594                  85.98   \n",
      "3          Brazil      684256                 321                  61.99   \n",
      "4       Argentina      899267                4749                  85.01   \n",
      "5  United Kingdom      296032                 477                  90.51   \n",
      "\n",
      "   Acces to sanitation  Electricity Access  HealthCare  Education Access  \\\n",
      "1                91.53               87.83       93.15             69.03   \n",
      "2                72.38               84.95       71.14             84.59   \n",
      "3                80.54               87.43       98.71             68.58   \n",
      "4                79.66               92.22       94.24             93.45   \n",
      "5                90.33               80.96       74.63             58.09   \n",
      "\n",
      "   Poverty Rate  Unemployment Rate  \n",
      "1         23.88              11.39  \n",
      "2         20.89               9.03  \n",
      "3         30.48               6.41  \n",
      "4         10.88              14.11  \n",
      "5         35.47               8.73  \n"
     ]
    }
   ],
   "source": [
    "# Select multiple rows by position\n",
    "print(df.loc[1:5])# rows 1 to 5"
   ]
  },
  {
   "cell_type": "markdown",
   "id": "16fc7afc-6788-4adc-a10b-ec8369ca7823",
   "metadata": {},
   "source": [
    "# Data Types in Machine Learning Datasets\n",
    "\n",
    "| Category            | Data Type           | Example Column       | Description                                                                 | Values                                                      |\n",
    "|---------------------|---------------------|----------------------|-----------------------------------------------------------------------------|-------------------------------------------------------------|\n",
    "| **Numerical Data**  | Integer (int)       | `Age`                | Whole numbers that can be positive, negative, or zero.                      | 23, 45, 56, 32, 18                                          |\n",
    "|                     | Float (float)       | `Income`             | Numbers that have a decimal point.                                          | 35000.50, 45000.75, 52000.00, 28000.20, 67000.95            |\n",
    "| **Categorical Data**| Nominal             | `Gender`             | Categories with no inherent order.                                          | Male, Female, Other                                         |\n",
    "|                     | Ordinal             | `Education Level`    | Categories with a logical order.                                            | High School, Bachelor’s, Master’s, PhD                      |\n",
    "| **Time Series Data**| Date                | `Date of Birth`      | Represents dates.                                                           | 1995-08-23, 1987-05-19, 2000-01-01                          |\n",
    "|                     | Time                | `Transaction Time`   | Represents time.                                                            | 14:30:00, 09:15:00, 22:45:00                                |\n",
    "|                     | DateTime            | `Timestamp`          | Represents both date and time.                                              | 2023-05-19 14:30:00, 2023-05-19 09:15:00, 2023-05-19 22:45:00 |\n",
    "| **Text Data**       | String (text)       | `Customer Feedback`  | Text data used for natural language processing or simple text storage.      | \"Excellent service\", \"Poor quality\", \"Very satisfied\", \"Will not return\" |\n",
    "| **Other Data Types**| Boolean (bool)      | `Is Subscribed`      | True or False values.                                                       | True, False, True, False, True                              |\n",
    "|                     | Array               | `Feature Vector`     | A collection of numeric values often used in deep learning.                 | [0.23, 0.11, 0.45], [0.13, 0.56, 0.77], [0.65, 0.21, 0.34]  |\n",
    "|                     | JSON/Object         | `User Preferences`   | Complex nested data structures often used to store multiple related attributes. | {\"theme\": \"dark\", \"notifications\": \"enabled\"}, {\"theme\": \"light\", \"notifications\": \"disabled\"} |\n",
    "\n"
   ]
  }
 ],
 "metadata": {
  "kernelspec": {
   "display_name": "Python 3 (ipykernel)",
   "language": "python",
   "name": "python3"
  },
  "language_info": {
   "codemirror_mode": {
    "name": "ipython",
    "version": 3
   },
   "file_extension": ".py",
   "mimetype": "text/x-python",
   "name": "python",
   "nbconvert_exporter": "python",
   "pygments_lexer": "ipython3",
   "version": "3.11.9"
  }
 },
 "nbformat": 4,
 "nbformat_minor": 5
}

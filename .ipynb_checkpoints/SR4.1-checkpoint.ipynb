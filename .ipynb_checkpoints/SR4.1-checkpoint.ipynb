{
 "cells": [
  {
   "cell_type": "code",
   "execution_count": 1,
   "id": "0bdce5f8-d699-409d-858c-26480b91b7cc",
   "metadata": {},
   "outputs": [
    {
     "name": "stdout",
     "output_type": "stream",
     "text": [
      "Sorted years: [1989, 1990, 1998, 2005, 2009, 2012, 2022]\n"
     ]
    }
   ],
   "source": [
    "def bubble_sort(arr, order='ascending'):\n",
    "    n = len(arr)\n",
    "    for i in range(n):\n",
    "        # Track if any swapping happens\n",
    "        swapped = False\n",
    "        for j in range(0, n-i-1):\n",
    "            if (order == 'ascending' and arr[j] > arr[j+1]) or (order == 'descending' and arr[j] < arr[j+1]):\n",
    "                arr[j], arr[j+1] = arr[j+1], arr[j]\n",
    "                swapped = True\n",
    "        # If no two elements were swapped in the inner loop, then the list is already sorted\n",
    "        if not swapped:\n",
    "            break\n",
    "    return arr\n",
    "\n",
    "# Example usage using my dataset:\n",
    "years = [1989, 2012, 2009, 2005, 1990, 1998, 2022]\n",
    "sorted_years = bubble_sort(years, order='ascending')\n",
    "print(\"Sorted years:\", sorted_years)\n"
   ]
  },
  {
   "cell_type": "code",
   "execution_count": null,
   "id": "2e8f4861-3994-4f81-8c1a-e72a6067be1f",
   "metadata": {},
   "outputs": [],
   "source": []
  }
 ],
 "metadata": {
  "kernelspec": {
   "display_name": "Python 3 (ipykernel)",
   "language": "python",
   "name": "python3"
  },
  "language_info": {
   "codemirror_mode": {
    "name": "ipython",
    "version": 3
   },
   "file_extension": ".py",
   "mimetype": "text/x-python",
   "name": "python",
   "nbconvert_exporter": "python",
   "pygments_lexer": "ipython3",
   "version": "3.11.9"
  }
 },
 "nbformat": 4,
 "nbformat_minor": 5
}

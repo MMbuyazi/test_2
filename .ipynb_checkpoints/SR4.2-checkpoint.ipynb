{
 "cells": [
  {
   "cell_type": "markdown",
   "id": "7a69119c-f252-4db8-9c14-545a2d5c0baf",
   "metadata": {},
   "source": [
    "### Performance Analysis: Linear Search vs. Binary Search\n",
    "\n",
    "#### Linear Search:\n",
    "- Each element in the list is sequentially compared to the target value until a match is discovered or the full list is scanned.\n",
    "- Time complexity is O(n), where n is the number of elements in the list.\n",
    "- In the worst-case scenario, linear search may have to go through the entire list to find the target, resulting in linear time complexity.\n",
    "- Works effectively with small datasets or unsorted lists where the cost of sorting is not justified.\n",
    "\n",
    "#### Binary Search:\n",
    "- Binary search works with sorted lists by continually dividing the search interval in half.\n",
    "- Time complexity is O(log n), where n is the number of elements in the list.\n",
    "- Binary search is substantially faster than linear search on huge datasets.\n",
    "- It leverages the sorted nature of the list to efficiently reduce the search space by half with each iteration.\n",
    "- However, binary search requires the list to be sorted beforehand, which might be inefficient if the list changes frequently.\n",
    "\n",
    "#### Comparison:\n",
    "- Linear search may outperform binary search for small datasets or unsorted lists due to its simplicity and absence of sorting requirements.\n",
    "- For large datasets or scenarios requiring high performance, binary search is the preferred choice due to its logarithmic time complexity.\n",
    "- Binary search becomes more favorable as the dataset size increases since its time complexity develops significantly slower than linear search.\n",
    "\n",
    "#### Conclusion:\n",
    "- If the dataset is small or unsorted, linear search may be adequate and easier to implement.\n",
    "- For larger datasets or when performance is critical, binary search is the preferable method due to its efficiency and faster search times, particularly when working with sorted datasets.\n",
    "\n",
    "\n"
   ]
  },
  {
   "cell_type": "code",
   "execution_count": 1,
   "id": "6f0a3c36-9c4b-427e-8cb3-d5b33985a281",
   "metadata": {},
   "outputs": [
    {
     "name": "stdout",
     "output_type": "stream",
     "text": [
      "   Country_Name Country ISO3  Year  \\\n",
      "0  South Africa          ZAF  2021   \n",
      "1  South Africa          ZAF  2019   \n",
      "2  South Africa          ZAF  2017   \n",
      "3  South Africa          ZAF  2015   \n",
      "4  South Africa          ZAF  2014   \n",
      "\n",
      "                                      Indicator Name        Indicator Code  \\\n",
      "0  Literacy rate, youth (ages 15-24), gender pari...  SE.ADT.1524.LT.FM.ZS   \n",
      "1  Literacy rate, youth (ages 15-24), gender pari...  SE.ADT.1524.LT.FM.ZS   \n",
      "2  Literacy rate, youth (ages 15-24), gender pari...  SE.ADT.1524.LT.FM.ZS   \n",
      "3  Literacy rate, youth (ages 15-24), gender pari...  SE.ADT.1524.LT.FM.ZS   \n",
      "4  Literacy rate, youth (ages 15-24), gender pari...  SE.ADT.1524.LT.FM.ZS   \n",
      "\n",
      "     Value  \n",
      "0  1.01603  \n",
      "1  1.00853  \n",
      "2  1.03220  \n",
      "3  1.00549  \n",
      "4  1.00406  \n"
     ]
    }
   ],
   "source": [
    "import pandas as pd\n",
    "\n",
    "# Load the dataset\n",
    "df = pd.read_csv(r\"C:/Users/cash/Downloads/social-development_zaf.csv\", low_memory=False)\n",
    "\n",
    "# Display the first few rows of the dataset to understand its structure\n",
    "print(df.head())\n"
   ]
  },
  {
   "cell_type": "code",
   "execution_count": 2,
   "id": "1773c3ab-843b-4077-acb6-1dccfa6e0f95",
   "metadata": {},
   "outputs": [],
   "source": [
    "def linear_search(arr, target):\n",
    "    \"\"\"\n",
    "    Perform linear search to find the target element in the array.\n",
    "    \n",
    "    Parameters:\n",
    "        arr (list): The list to search within.\n",
    "        target: The element to search for.\n",
    "    \n",
    "    Returns:\n",
    "        int: The index of the target element if found, otherwise -1.\n",
    "    \"\"\"\n",
    "    for i in range(len(arr)):\n",
    "        if arr[i] == target:\n",
    "            return i\n",
    "    return -1\n",
    "\n",
    "def binary_search(arr, target):\n",
    "    \"\"\"\n",
    "    Perform binary search to find the target element in the sorted array.\n",
    "    \n",
    "    Parameters:\n",
    "        arr (list): The sorted list to search within.\n",
    "        target: The element to search for.\n",
    "    \n",
    "    Returns:\n",
    "        int: The index of the target element if found, otherwise -1.\n",
    "    \"\"\"\n",
    "    low = 0\n",
    "    high = len(arr) - 1\n",
    "    \n",
    "    while low <= high:\n",
    "        mid = (low + high) // 2\n",
    "        if arr[mid] == target:\n",
    "            return mid\n",
    "        elif arr[mid] < target:\n",
    "            low = mid + 1\n",
    "        else:\n",
    "            high = mid - 1\n",
    "    \n",
    "    return -1\n"
   ]
  },
  {
   "cell_type": "code",
   "execution_count": 5,
   "id": "65144ffe-537c-43f4-89ab-16d4cf016d46",
   "metadata": {},
   "outputs": [
    {
     "name": "stdout",
     "output_type": "stream",
     "text": [
      "Linear Search Result: 7\n",
      "Binary Search Result: 57\n"
     ]
    }
   ],
   "source": [
    "# Define the column to search and the target value\n",
    "column_to_search = 'Value'  # Replace with the actual column name\n",
    "target_value = '1.00518000125885'     # Replace with the actual target value\n",
    "\n",
    "# Extract the column as a list and convert all elements to strings\n",
    "search_list = df[column_to_search].astype(str).tolist()\n",
    "\n",
    "# Perform linear search\n",
    "linear_search_result = linear_search(search_list, str(target_value))\n",
    "print(f'Linear Search Result: {linear_search_result}')\n",
    "\n",
    "# Perform binary search (requires sorted list)\n",
    "sorted_search_list = sorted(search_list)\n",
    "binary_search_result = binary_search(sorted_search_list, str(target_value))\n",
    "print(f'Binary Search Result: {binary_search_result}')\n"
   ]
  },
  {
   "cell_type": "code",
   "execution_count": null,
   "id": "a429ccb2-ee5c-4c30-88aa-b117e0c3e3d7",
   "metadata": {},
   "outputs": [],
   "source": []
  }
 ],
 "metadata": {
  "kernelspec": {
   "display_name": "Python 3 (ipykernel)",
   "language": "python",
   "name": "python3"
  },
  "language_info": {
   "codemirror_mode": {
    "name": "ipython",
    "version": 3
   },
   "file_extension": ".py",
   "mimetype": "text/x-python",
   "name": "python",
   "nbconvert_exporter": "python",
   "pygments_lexer": "ipython3",
   "version": "3.11.9"
  }
 },
 "nbformat": 4,
 "nbformat_minor": 5
}

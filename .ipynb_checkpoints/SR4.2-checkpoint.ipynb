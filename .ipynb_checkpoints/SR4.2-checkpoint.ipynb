{
 "cells": [
  {
   "cell_type": "markdown",
   "id": "7a69119c-f252-4db8-9c14-545a2d5c0baf",
   "metadata": {},
   "source": [
    "### Performance Analysis: Linear Search vs. Binary Search\n",
    "\n",
    "#### Linear Search:\n",
    "- Each element in the list is sequentially compared to the target value until a match is discovered or the full list is scanned.\n",
    "- Time complexity is O(n), where n is the number of elements in the list.\n",
    "- In the worst-case scenario, linear search may have to go through the entire list to find the target, resulting in linear time complexity.\n",
    "- Works effectively with small datasets or unsorted lists where the cost of sorting is not justified.\n",
    "\n",
    "#### Binary Search:\n",
    "- Binary search works with sorted lists by continually dividing the search interval in half.\n",
    "- Time complexity is O(log n), where n is the number of elements in the list.\n",
    "- Binary search is substantially faster than linear search on huge datasets.\n",
    "- It leverages the sorted nature of the list to efficiently reduce the search space by half with each iteration.\n",
    "- However, binary search requires the list to be sorted beforehand, which might be inefficient if the list changes frequently.\n",
    "\n",
    "#### Comparison:\n",
    "- Linear search may outperform binary search for small datasets or unsorted lists due to its simplicity and absence of sorting requirements.\n",
    "- For large datasets or scenarios requiring high performance, binary search is the preferred choice due to its logarithmic time complexity.\n",
    "- Binary search becomes more favorable as the dataset size increases since its time complexity develops significantly slower than linear search.\n",
    "\n",
    "#### Conclusion:\n",
    "- If the dataset is small or unsorted, linear search may be adequate and easier to implement.\n",
    "- For larger datasets or when performance is critical, binary search is the preferable method due to its efficiency and faster search times, particularly when working with sorted datasets.\n",
    "\n",
    "\n"
   ]
  },
  {
   "cell_type": "code",
   "execution_count": 4,
   "id": "42be2bbd-0c6e-4c35-9602-0d4013531429",
   "metadata": {},
   "outputs": [],
   "source": [
    "import pandas as pd\n"
   ]
  },
  {
   "cell_type": "code",
   "execution_count": 5,
   "id": "6f0a3c36-9c4b-427e-8cb3-d5b33985a281",
   "metadata": {},
   "outputs": [
    {
     "name": "stdout",
     "output_type": "stream",
     "text": [
      "         Country  Population  Population density  Access to clean water  \\\n",
      "0  United States      567052                8396                  91.07   \n",
      "1         Canada      120151                6092                  97.82   \n",
      "2       Mexico Z      219199                 594                  85.98   \n",
      "3         Brazil      684256                 321                  61.99   \n",
      "4      Argentina      899267                4749                  85.01   \n",
      "\n",
      "   Acces to sanitation  Electricity Access  HealthCare  Education Access  \\\n",
      "0                65.82               86.88       77.92             98.56   \n",
      "1                91.53               87.83       93.15             69.03   \n",
      "2                72.38               84.95       71.14             84.59   \n",
      "3                80.54               87.43       98.71             68.58   \n",
      "4                79.66               92.22       94.24             93.45   \n",
      "\n",
      "   Poverty Rate  Unemployment Rate  \n",
      "0         27.42              17.39  \n",
      "1         23.88              11.39  \n",
      "2         20.89               9.03  \n",
      "3         30.48               6.41  \n",
      "4         10.88              14.11  \n"
     ]
    }
   ],
   "source": [
    "\n",
    "# Read the CSV file into a DataFrame\n",
    "df = pd.read_csv(r\"C:/Users/cash/OneDrive/Desktop/Human settlement.csv\")\n",
    "\n",
    "# Display the first few rows of the dataset to understand its structure\n",
    "print(df.head())\n"
   ]
  },
  {
   "cell_type": "code",
   "execution_count": 8,
   "id": "1773c3ab-843b-4077-acb6-1dccfa6e0f95",
   "metadata": {},
   "outputs": [],
   "source": [
    "def linear_search(arr, target):\n",
    "    \"\"\"\n",
    "    Perform linear search to find the target element in the array.\n",
    "    \n",
    "    Parameters:\n",
    "        arr (list): The list to search within.\n",
    "        target: The element to search for.\n",
    "    \n",
    "    Returns:\n",
    "        int: The index of the target element if found, otherwise -1.\n",
    "    \"\"\"\n",
    "    for i in range(len(arr)):\n",
    "        if arr[i] == target:\n",
    "            return i\n",
    "    return -1\n",
    "\n",
    "def binary_search(arr, target):\n",
    "    \"\"\"\n",
    "    Perform binary search to find the target element in the sorted array.\n",
    "    \n",
    "    Parameters:\n",
    "        arr (list): The sorted list to search within.\n",
    "        target: The element to search for.\n",
    "    \n",
    "    Returns:\n",
    "        int: The index of the target element if found, otherwise -1.\n",
    "    \"\"\"\n",
    "    low = 0\n",
    "    high = len(arr) - 1\n",
    "    \n",
    "    while low <= high:\n",
    "        midium = (low + high) // 2\n",
    "        if arr[midiu] == target:\n",
    "            return midium\n",
    "        elif arr[midium] < target:\n",
    "            low = midium + 1\n",
    "        else:\n",
    "            high = midium - 1\n",
    "    \n",
    "    return -1\n"
   ]
  },
  {
   "cell_type": "code",
   "execution_count": 7,
   "id": "65144ffe-537c-43f4-89ab-16d4cf016d46",
   "metadata": {},
   "outputs": [
    {
     "name": "stdout",
     "output_type": "stream",
     "text": [
      "Linear Search Result: 21\n",
      "Binary Search Result: 36\n"
     ]
    }
   ],
   "source": [
    "# Define the column to search and the target value\n",
    "column_to_search = 'Population'  # Replace with the actual column name\n",
    "target_value = '356244'     # Replace with the actual target value\n",
    "\n",
    "# Extract the column as a list and convert all elements to strings\n",
    "search_list = df[column_to_search].astype(str).tolist()\n",
    "\n",
    "# Perform linear search\n",
    "linear_search_result = linear_search(search_list, str(target_value))\n",
    "print(f'Linear Search Result: {linear_search_result}')\n",
    "\n",
    "# Perform binary search (requires sorted list)\n",
    "sorted_search_list = sorted(search_list)\n",
    "binary_search_result = binary_search(sorted_search_list, str(target_value))\n",
    "print(f'Binary Search Result: {binary_search_result}')\n"
   ]
  }
 ],
 "metadata": {
  "kernelspec": {
   "display_name": "Python 3 (ipykernel)",
   "language": "python",
   "name": "python3"
  },
  "language_info": {
   "codemirror_mode": {
    "name": "ipython",
    "version": 3
   },
   "file_extension": ".py",
   "mimetype": "text/x-python",
   "name": "python",
   "nbconvert_exporter": "python",
   "pygments_lexer": "ipython3",
   "version": "3.11.9"
  }
 },
 "nbformat": 4,
 "nbformat_minor": 5
}

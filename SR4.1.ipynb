{
 "cells": [
  {
   "cell_type": "code",
   "execution_count": 1,
   "id": "0bdce5f8-d699-409d-858c-26480b91b7cc",
   "metadata": {},
   "outputs": [
    {
     "name": "stdout",
     "output_type": "stream",
     "text": [
      "Sorted years in ascending order: [1989, 1990, 1998, 2005, 2009, 2012, 2022]\n"
     ]
    }
   ],
   "source": [
    "years = [1989,2012,2009,2005,1990,1998,2022]\n",
    "# Sort the list in ascending order\n",
    "sorted_years = sorted(years)\n",
    "\n",
    "print(\"Sorted years in ascending order:\", sorted_years)"
   ]
  },
  {
   "cell_type": "code",
   "execution_count": null,
   "id": "2e8f4861-3994-4f81-8c1a-e72a6067be1f",
   "metadata": {},
   "outputs": [],
   "source": []
  }
 ],
 "metadata": {
  "kernelspec": {
   "display_name": "Python 3 (ipykernel)",
   "language": "python",
   "name": "python3"
  },
  "language_info": {
   "codemirror_mode": {
    "name": "ipython",
    "version": 3
   },
   "file_extension": ".py",
   "mimetype": "text/x-python",
   "name": "python",
   "nbconvert_exporter": "python",
   "pygments_lexer": "ipython3",
   "version": "3.11.9"
  }
 },
 "nbformat": 4,
 "nbformat_minor": 5
}
